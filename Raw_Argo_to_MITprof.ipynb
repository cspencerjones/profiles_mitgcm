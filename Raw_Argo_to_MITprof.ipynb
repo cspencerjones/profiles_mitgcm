{
 "cells": [
  {
   "cell_type": "code",
   "execution_count": 1,
   "metadata": {},
   "outputs": [],
   "source": [
    "import pandas as pd\n",
    "import xarray as xr\n",
    "\n",
    "\n",
    "argo_prof='/swot/SUM01/spencer/Argo_test/5904468_Mprof.nc'\n",
    "argo_prof2='/swot/SUM01/spencer/Argo_test/5904471_Mprof.nc'\n",
    "prof1=xr.open_dataset(argo_prof)\n",
    "prof2=xr.open_dataset(argo_prof2)"
   ]
  },
  {
   "cell_type": "code",
   "execution_count": 2,
   "metadata": {},
   "outputs": [
    {
     "data": {
      "text/plain": [
       "<xarray.Dataset>\n",
       "Dimensions:                          (N_CALIB: 1, N_HISTORY: 0, N_LEVELS: 500, N_PARAM: 6, N_PROF: 402)\n",
       "Dimensions without coordinates: N_CALIB, N_HISTORY, N_LEVELS, N_PARAM, N_PROF\n",
       "Data variables:\n",
       "    DATA_TYPE                        object ...\n",
       "    FORMAT_VERSION                   object ...\n",
       "    HANDBOOK_VERSION                 object ...\n",
       "    REFERENCE_DATE_TIME              object ...\n",
       "    DATE_CREATION                    object ...\n",
       "    DATE_UPDATE                      object ...\n",
       "    PLATFORM_NUMBER                  (N_PROF) object ...\n",
       "    PROJECT_NAME                     (N_PROF) object ...\n",
       "    PI_NAME                          (N_PROF) object ...\n",
       "    STATION_PARAMETERS               (N_PROF, N_PARAM) object ...\n",
       "    CYCLE_NUMBER                     (N_PROF) float64 ...\n",
       "    DIRECTION                        (N_PROF) object ...\n",
       "    DATA_CENTRE                      (N_PROF) object ...\n",
       "    DC_REFERENCE                     (N_PROF) object ...\n",
       "    DATA_STATE_INDICATOR             (N_PROF) object ...\n",
       "    DATA_MODE                        (N_PROF) object ...\n",
       "    PARAMETER_DATA_MODE              (N_PROF, N_PARAM) object ...\n",
       "    PLATFORM_TYPE                    (N_PROF) object ...\n",
       "    FLOAT_SERIAL_NO                  (N_PROF) object ...\n",
       "    FIRMWARE_VERSION                 (N_PROF) object ...\n",
       "    WMO_INST_TYPE                    (N_PROF) object ...\n",
       "    JULD                             (N_PROF) datetime64[ns] ...\n",
       "    JULD_QC                          (N_PROF) object ...\n",
       "    JULD_LOCATION                    (N_PROF) datetime64[ns] ...\n",
       "    LATITUDE                         (N_PROF) float64 ...\n",
       "    LONGITUDE                        (N_PROF) float64 ...\n",
       "    POSITION_QC                      (N_PROF) object ...\n",
       "    POSITIONING_SYSTEM               (N_PROF) object ...\n",
       "    PROFILE_PRES_QC                  (N_PROF) object ...\n",
       "    PROFILE_TEMP_QC                  (N_PROF) object ...\n",
       "    PROFILE_PSAL_QC                  (N_PROF) object ...\n",
       "    PROFILE_DOXY_QC                  (N_PROF) object ...\n",
       "    PROFILE_CHLA_QC                  (N_PROF) object ...\n",
       "    PROFILE_BBP700_QC                (N_PROF) object ...\n",
       "    PROFILE_PH_IN_SITU_TOTAL_QC      (N_PROF) object ...\n",
       "    PROFILE_NITRATE_QC               (N_PROF) object ...\n",
       "    VERTICAL_SAMPLING_SCHEME         (N_PROF) object ...\n",
       "    CONFIG_MISSION_NUMBER            (N_PROF) float64 ...\n",
       "    PRES                             (N_PROF, N_LEVELS) float32 ...\n",
       "    PRES_QC                          (N_PROF, N_LEVELS) object ...\n",
       "    PRES_ADJUSTED                    (N_PROF, N_LEVELS) float32 ...\n",
       "    PRES_ADJUSTED_QC                 (N_PROF, N_LEVELS) object ...\n",
       "    PRES_ADJUSTED_ERROR              (N_PROF, N_LEVELS) float32 ...\n",
       "    TEMP                             (N_PROF, N_LEVELS) float32 ...\n",
       "    TEMP_QC                          (N_PROF, N_LEVELS) object ...\n",
       "    TEMP_ADJUSTED                    (N_PROF, N_LEVELS) float32 ...\n",
       "    TEMP_ADJUSTED_QC                 (N_PROF, N_LEVELS) object ...\n",
       "    TEMP_ADJUSTED_ERROR              (N_PROF, N_LEVELS) float32 ...\n",
       "    PSAL                             (N_PROF, N_LEVELS) float32 ...\n",
       "    PSAL_QC                          (N_PROF, N_LEVELS) object ...\n",
       "    PSAL_ADJUSTED                    (N_PROF, N_LEVELS) float32 ...\n",
       "    PSAL_ADJUSTED_QC                 (N_PROF, N_LEVELS) object ...\n",
       "    PSAL_ADJUSTED_ERROR              (N_PROF, N_LEVELS) float32 ...\n",
       "    DOXY                             (N_PROF, N_LEVELS) float32 ...\n",
       "    DOXY_QC                          (N_PROF, N_LEVELS) object ...\n",
       "    DOXY_ADJUSTED                    (N_PROF, N_LEVELS) float32 ...\n",
       "    DOXY_ADJUSTED_QC                 (N_PROF, N_LEVELS) object ...\n",
       "    DOXY_ADJUSTED_ERROR              (N_PROF, N_LEVELS) float32 ...\n",
       "    CHLA                             (N_PROF, N_LEVELS) float32 ...\n",
       "    CHLA_QC                          (N_PROF, N_LEVELS) object ...\n",
       "    CHLA_ADJUSTED                    (N_PROF, N_LEVELS) float32 ...\n",
       "    CHLA_ADJUSTED_QC                 (N_PROF, N_LEVELS) object ...\n",
       "    CHLA_ADJUSTED_ERROR              (N_PROF, N_LEVELS) float32 ...\n",
       "    BBP700                           (N_PROF, N_LEVELS) float32 ...\n",
       "    BBP700_QC                        (N_PROF, N_LEVELS) object ...\n",
       "    BBP700_ADJUSTED                  (N_PROF, N_LEVELS) float32 ...\n",
       "    BBP700_ADJUSTED_QC               (N_PROF, N_LEVELS) object ...\n",
       "    BBP700_ADJUSTED_ERROR            (N_PROF, N_LEVELS) float32 ...\n",
       "    PH_IN_SITU_TOTAL                 (N_PROF, N_LEVELS) float32 ...\n",
       "    PH_IN_SITU_TOTAL_QC              (N_PROF, N_LEVELS) object ...\n",
       "    PH_IN_SITU_TOTAL_ADJUSTED        (N_PROF, N_LEVELS) float32 ...\n",
       "    PH_IN_SITU_TOTAL_ADJUSTED_QC     (N_PROF, N_LEVELS) object ...\n",
       "    PH_IN_SITU_TOTAL_ADJUSTED_ERROR  (N_PROF, N_LEVELS) float32 ...\n",
       "    NITRATE                          (N_PROF, N_LEVELS) float32 ...\n",
       "    NITRATE_QC                       (N_PROF, N_LEVELS) object ...\n",
       "    NITRATE_ADJUSTED                 (N_PROF, N_LEVELS) float32 ...\n",
       "    NITRATE_ADJUSTED_QC              (N_PROF, N_LEVELS) object ...\n",
       "    NITRATE_ADJUSTED_ERROR           (N_PROF, N_LEVELS) float32 ...\n",
       "    PARAMETER                        (N_PROF, N_CALIB, N_PARAM) object ...\n",
       "    SCIENTIFIC_CALIB_EQUATION        (N_PROF, N_CALIB, N_PARAM) object ...\n",
       "    SCIENTIFIC_CALIB_COEFFICIENT     (N_PROF, N_CALIB, N_PARAM) object ...\n",
       "    SCIENTIFIC_CALIB_COMMENT         (N_PROF, N_CALIB, N_PARAM) object ...\n",
       "    SCIENTIFIC_CALIB_DATE            (N_PROF, N_CALIB, N_PARAM) object ...\n",
       "    HISTORY_INSTITUTION              (N_HISTORY, N_PROF) object ...\n",
       "    HISTORY_STEP                     (N_HISTORY, N_PROF) object ...\n",
       "    HISTORY_SOFTWARE                 (N_HISTORY, N_PROF) object ...\n",
       "    HISTORY_SOFTWARE_RELEASE         (N_HISTORY, N_PROF) object ...\n",
       "    HISTORY_REFERENCE                (N_HISTORY, N_PROF) object ...\n",
       "    HISTORY_DATE                     (N_HISTORY, N_PROF) object ...\n",
       "    HISTORY_ACTION                   (N_HISTORY, N_PROF) object ...\n",
       "    HISTORY_PARAMETER                (N_HISTORY, N_PROF) object ...\n",
       "    HISTORY_START_PRES               (N_HISTORY, N_PROF) float32 ...\n",
       "    HISTORY_STOP_PRES                (N_HISTORY, N_PROF) float32 ...\n",
       "    HISTORY_PREVIOUS_VALUE           (N_HISTORY, N_PROF) float32 ...\n",
       "    HISTORY_QCTEST                   (N_HISTORY, N_PROF) object ...\n",
       "Attributes:\n",
       "    title:                Argo float vertical profile\n",
       "    institution:          FR GDAC\n",
       "    source:               Argo float\n",
       "    history:              2019-03-31T23:59:14Z creation\n",
       "    references:           http://www.argodatamgt.org/Documentation\n",
       "    comment:              free text\n",
       "    user_manual_version:  3.2\n",
       "    Conventions:          Argo-3.2 CF-1.6\n",
       "    featureType:          trajectoryProfile"
      ]
     },
     "execution_count": 2,
     "metadata": {},
     "output_type": "execute_result"
    }
   ],
   "source": [
    "prof2"
   ]
  },
  {
   "cell_type": "code",
   "execution_count": 3,
   "metadata": {},
   "outputs": [],
   "source": [
    "ds=prof2\n",
    "from scipy.signal import medfilt\n",
    "import matplotlib.pyplot as plt\n",
    "import numpy as np\n",
    "import gsw\n",
    "def maval(a,b):\n",
    "    return np.ma.masked_values(a,b)\n",
    "lat = ds.LATITUDE\n",
    "lon = ds.LONGITUDE\n",
    "p = ds.PRES_ADJUSTED.where(xr.DataArray(maval(maval(maval(maval(maval(np.asarray(ds.PRES_ADJUSTED_QC,dtype=float),\n",
    "                                                                     0.),3.),4.),6.),7.), \n",
    "                                        dims=ds.PRES_ADJUSTED_QC.dims, coords=ds.PRES_ADJUSTED_QC.coords)<9.)\n",
    "p = np.ma.masked_invalid(p.where(p!=99999.).where(p>0.))\n",
    "maskp = p.mask\n",
    "            \n",
    "t = ds.TEMP_ADJUSTED.where(xr.DataArray(maval(maval(maval(maval(maval(np.asarray(ds.TEMP_ADJUSTED_QC,dtype=float),\n",
    "                                                                     0.),3.),4.),6.),7.), \n",
    "                                        dims=ds.TEMP_ADJUSTED_QC.dims, coords=ds.TEMP_ADJUSTED_QC.coords)<9.)\n",
    "t = t.where(t!=99999.)\n",
    "s = ds.PSAL_ADJUSTED.where(xr.DataArray(maval(maval(maval(maval(maval(np.asarray(ds.PSAL_ADJUSTED_QC,dtype=float),\n",
    "                                                                     0.),3.),4.),6.),7.), \n",
    "                                        dims=ds.PSAL_ADJUSTED_QC.dims, coords=ds.PSAL_ADJUSTED_QC.coords)<9.)\n",
    "s = s.where(s!=99999.).where(s>0.)\n",
    "SA = xr.apply_ufunc(gsw.SA_from_SP,s,p,lon,lat)\n",
    "pt = xr.apply_ufunc(gsw.pt0_from_t,SA,t,p)\n",
    "CT = xr.apply_ufunc(gsw.CT_from_pt,SA,pt)\n",
    "rho = np.ma.masked_invalid(xr.apply_ufunc(gsw.rho,SA,CT,0))\n",
    "maskr = rho.mask\n",
    "\n",
    "\n",
    "doxy = ds.DOXY_ADJUSTED.where(xr.DataArray(maval(maval(maval(maval(maval(np.asarray(ds.DOXY_ADJUSTED_QC,dtype=float),\n",
    "                                                                        0.),3.),4.),6.),7.), \n",
    "                                        dims=ds.DOXY_ADJUSTED_QC.dims, coords=ds.DOXY_ADJUSTED_QC.coords)<9.\n",
    "                              ).where(ds.DOXY_ADJUSTED!=99999.)\n",
    "depth=xr.apply_ufunc(gsw.z_from_p,p,xr.ones_like(ds.PRES_ADJUSTED)*lat)"
   ]
  },
  {
   "cell_type": "code",
   "execution_count": 4,
   "metadata": {},
   "outputs": [
    {
     "data": {
      "text/plain": [
       "<xarray.Dataset>\n",
       "Dimensions:    (N_LEVELS: 500, N_PROF: 402)\n",
       "Dimensions without coordinates: N_LEVELS, N_PROF\n",
       "Data variables:\n",
       "    LATITUDE   (N_PROF) float64 ...\n",
       "    LONGITUDE  (N_PROF) float64 ...\n",
       "    PRES       (N_PROF, N_LEVELS) float32 ...\n",
       "    depth      (N_PROF, N_LEVELS) float64 -2.376 -3.96 -5.94 ... nan nan nan\n",
       "    pt         (N_PROF, N_LEVELS) float64 -1.734 -1.733 -1.735 ... nan nan nan\n",
       "    SA         (N_PROF, N_LEVELS) float64 34.02 34.02 34.02 ... nan nan nan"
      ]
     },
     "execution_count": 4,
     "metadata": {},
     "output_type": "execute_result"
    }
   ],
   "source": [
    "new_dataset=ds[['LATITUDE', 'LONGITUDE','PRES']]\n",
    "new_dataset=xr.merge([new_dataset,depth.to_dataset(name='depth')])\n",
    "new_dataset=xr.merge([new_dataset,pt.to_dataset(name='pt')])\n",
    "new_dataset=xr.merge([new_dataset,SA.to_dataset(name='SA')])\n",
    "new_dataset"
   ]
  },
  {
   "cell_type": "code",
   "execution_count": 41,
   "metadata": {},
   "outputs": [],
   "source": [
    "#load MITgcm levels\n",
    "import xmitgcm\n",
    "datadir='/swot/SUM01/spencer/1D'\n",
    "iters=[1460]\n",
    "prefixes=['diag_state']\n",
    "ds1D=xmitgcm.open_mdsdataset(datadir,prefix=prefixes)"
   ]
  },
  {
   "cell_type": "code",
   "execution_count": 42,
   "metadata": {},
   "outputs": [
    {
     "data": {
      "text/plain": [
       "<xarray.Dataset>\n",
       "Dimensions:  (XC: 1, XG: 1, YC: 1, YG: 1, Z: 42, Zl: 42, Zp1: 43, Zu: 42, time: 37)\n",
       "Coordinates:\n",
       "  * XC       (XC) >f4 3.0\n",
       "  * YC       (YC) >f4 -65.5\n",
       "  * XG       (XG) >f4 0.0\n",
       "  * YG       (YG) >f4 -67.0\n",
       "  * Z        (Z) >f4 -2.1 -6.7 -12.15 -18.55 ... -1300.0 -1400.0 -1500.0 -1600.0\n",
       "  * Zp1      (Zp1) >f4 0.0 -4.2 -9.2 -15.1 ... -1350.0 -1450.0 -1550.0 -1650.0\n",
       "  * Zu       (Zu) >f4 -4.2 -9.2 -15.1 -22.0 ... -1350.0 -1450.0 -1550.0 -1650.0\n",
       "  * Zl       (Zl) >f4 0.0 -4.2 -9.2 -15.1 ... -1250.0 -1350.0 -1450.0 -1550.0\n",
       "    rA       (YC, XC) >f4 dask.array<shape=(1, 1), chunksize=(1, 1)>\n",
       "    dxG      (YG, XC) >f4 dask.array<shape=(1, 1), chunksize=(1, 1)>\n",
       "    dyG      (YC, XG) >f4 dask.array<shape=(1, 1), chunksize=(1, 1)>\n",
       "    Depth    (YC, XC) >f4 dask.array<shape=(1, 1), chunksize=(1, 1)>\n",
       "    rAz      (YG, XG) >f4 dask.array<shape=(1, 1), chunksize=(1, 1)>\n",
       "    dxC      (YC, XG) >f4 dask.array<shape=(1, 1), chunksize=(1, 1)>\n",
       "    dyC      (YG, XC) >f4 dask.array<shape=(1, 1), chunksize=(1, 1)>\n",
       "    rAw      (YC, XG) >f4 dask.array<shape=(1, 1), chunksize=(1, 1)>\n",
       "    rAs      (YG, XC) >f4 dask.array<shape=(1, 1), chunksize=(1, 1)>\n",
       "    drC      (Zp1) >f4 dask.array<shape=(43,), chunksize=(43,)>\n",
       "    drF      (Z) >f4 dask.array<shape=(42,), chunksize=(42,)>\n",
       "    PHrefC   (Z) >f4 dask.array<shape=(42,), chunksize=(42,)>\n",
       "    PHrefF   (Zp1) >f4 dask.array<shape=(43,), chunksize=(43,)>\n",
       "    hFacC    (Z, YC, XC) >f4 dask.array<shape=(42, 1, 1), chunksize=(42, 1, 1)>\n",
       "    hFacW    (Z, YC, XG) >f4 dask.array<shape=(42, 1, 1), chunksize=(42, 1, 1)>\n",
       "    hFacS    (Z, YG, XC) >f4 dask.array<shape=(42, 1, 1), chunksize=(42, 1, 1)>\n",
       "    iter     (time) int64 dask.array<shape=(37,), chunksize=(1,)>\n",
       "  * time     (time) int64 1460 2921 4381 5842 7302 ... 49654 51114 52574 54035\n",
       "Data variables:\n",
       "    THETA    (time, Z, YC, XC) float32 dask.array<shape=(37, 42, 1, 1), chunksize=(1, 42, 1, 1)>\n",
       "    SALT     (time, Z, YC, XC) float32 dask.array<shape=(37, 42, 1, 1), chunksize=(1, 42, 1, 1)>\n",
       "    UVEL     (time, Z, YC, XG) float32 dask.array<shape=(37, 42, 1, 1), chunksize=(1, 42, 1, 1)>\n",
       "    VVEL     (time, Z, YG, XC) float32 dask.array<shape=(37, 42, 1, 1), chunksize=(1, 42, 1, 1)>\n",
       "    WVEL     (time, Zl, YC, XC) float32 dask.array<shape=(37, 42, 1, 1), chunksize=(1, 42, 1, 1)>\n",
       "    PHIHYD   (time, Z, YC, XC) float32 dask.array<shape=(37, 42, 1, 1), chunksize=(1, 42, 1, 1)>\n",
       "    DRHODR   (time, Zl, YC, XC) float32 dask.array<shape=(37, 42, 1, 1), chunksize=(1, 42, 1, 1)>"
      ]
     },
     "execution_count": 42,
     "metadata": {},
     "output_type": "execute_result"
    }
   ],
   "source": [
    "ds1D"
   ]
  },
  {
   "cell_type": "code",
   "execution_count": 6,
   "metadata": {},
   "outputs": [
    {
     "name": "stderr",
     "output_type": "stream",
     "text": [
      "/home/spencerj/.conda/envs/pangeo1/lib/python3.6/site-packages/ipykernel/__main__.py:18: FutureWarning: 'depth' is both an index level and a column label.\n",
      "Defaulting to column, but this will raise an ambiguity error in a future version\n"
     ]
    }
   ],
   "source": [
    "#move to pandas and interpolate onto useful depth levels\n",
    "pandas_dataset=new_dataset.to_dataframe()\n",
    "dateset=ds[['JULD']].to_dataframe()\n",
    "pandas_dataset['depth']=-pandas_dataset['depth']\n",
    "pandas_dataset=pandas_dataset.reset_index().dropna(subset=['depth']).set_index(['N_PROF','depth']).drop(['N_LEVELS'],axis=1)\n",
    "for i in range(0,402):\n",
    "    exists=(pandas_dataset.index.get_level_values('N_PROF').values == i).any()\n",
    "    if exists:\n",
    "        to_interp=pandas_dataset.xs(i,level='N_PROF')\n",
    "        to_interp=to_interp.reindex(list(to_interp.index) + list(-ds1D.Z.values))\n",
    "        to_interp=to_interp.sort_index().interpolate()\n",
    "        sLength = len(to_interp.index)\n",
    "        to_interp = to_interp.assign(N_PROF=np.ones(sLength)*i)\n",
    "        to_interp['depth']=to_interp.index\n",
    "        if i==0:\n",
    "            interped=to_interp.loc[-ds1D.Z.values]\n",
    "        else:\n",
    "            interped=interped.merge(to_interp.loc[-ds1D.Z.values],how='outer')\n",
    "interped=interped.merge(dateset.reset_index(),how='outer')"
   ]
  },
  {
   "cell_type": "code",
   "execution_count": 7,
   "metadata": {},
   "outputs": [],
   "source": [
    "import datetime\n",
    "depthset=interped[['depth']]\n",
    "depthset=depthset.dropna().drop_duplicates()\n",
    "depthset['iDEPTH']=depthset.index\n",
    "interpedi=interped.merge(depthset,how='left')\n",
    "interpedi=interpedi.set_index(['N_PROF','iDEPTH'])\n",
    "interpedi.index.names = ['iPROF','iDEPTH']\n",
    "\n",
    "#deal with time values\n",
    "interpedi['JULD']=pd.to_datetime(interpedi['JULD'])#.astype('datetime64[Y]')\n",
    "interpedi['hour'],interpedi['minute'],interpedi['second']=interpedi['JULD'].dt.hour,interpedi['JULD'].dt.minute,interpedi['JULD'].dt.second\n",
    "interpedi['year'], interpedi['month'], interpedi['day'] = interpedi['JULD'].dt.year, interpedi['JULD'].dt.month,interpedi['JULD'].dt.day\n",
    "interpedi['date']=(interpedi['year'].astype(str).str.zfill(4)+interpedi['month'].astype(str).str.zfill(2)+interpedi['day'].astype(str).str.zfill(2)).astype('f8')\n",
    "interpedi=interpedi.drop(['year','month','day','PRES'], axis=1)\n",
    "interpedi['time']=(interpedi['hour'].astype(str).str.zfill(2)+interpedi['minute'].astype(str).str.zfill(2)+interpedi['second'].astype(str).str.zfill(2)).astype('f8')\n",
    "interpedi['JULD']=interpedi['JULD'].dt.strftime(\"%d-%b-%Y %H:%M:%S\")\n",
    "interpedi=interpedi.drop(['hour','minute','second'], axis=1)\n",
    "\n",
    "\n",
    "#rename so you can merge with stolen weights\n",
    "interpedi=interpedi.rename(index=float, columns={\"depth\": \"prof_depth\"})\n",
    "interpedi1= interpedi.reset_index()\n",
    "interpedi=interpedi1[interpedi1['iDEPTH'].astype('f8').notnull()]\n",
    "interpedi=interpedi[interpedi['LATITUDE'].astype('f8').notnull()]\n",
    "interpedi=interpedi[interpedi['LONGITUDE'].astype('f8').notnull()]\n"
   ]
  },
  {
   "cell_type": "code",
   "execution_count": 8,
   "metadata": {},
   "outputs": [
    {
     "name": "stderr",
     "output_type": "stream",
     "text": [
      "/home/spencerj/.conda/envs/pangeo1/lib/python3.6/site-packages/ipykernel/__main__.py:5: UserWarning: Boolean Series key will be reindexed to match DataFrame index.\n"
     ]
    }
   ],
   "source": [
    "#steal weights\n",
    "argo_test='/swot/SUM01/spencer/Argo_test/argo_2015_feb2016_llc90_step_09_20160308.nc'\n",
    "prof_ecco=xr.open_dataset(argo_test)\n",
    "pandas_ecco=prof_ecco[['prof_lat','prof_lon','prof_Tweight','prof_Sweight','prof_depth']].to_dataframe()\n",
    "pandas_ecco=(pandas_ecco[pandas_ecco.prof_lat<-63])[pandas_ecco.prof_lat>-67][pandas_ecco.prof_lon>0][pandas_ecco.prof_lon<6]\n",
    "pandas_Tweight=pandas_ecco[pandas_ecco.prof_Tweight>0].groupby('prof_depth').mean()['prof_Tweight']\n",
    "pandas_Sweight=pandas_ecco[pandas_ecco.prof_Sweight>0].groupby('prof_depth').mean()['prof_Sweight']\n",
    "pandas_Tweight=pandas_Tweight.reindex(list(pandas_Tweight.index) + list(-ds1D.Z.values))\n",
    "pandas_Sweight=pandas_Sweight.reindex(list(pandas_Sweight.index) + list(-ds1D.Z.values))\n",
    "pandas_Tweight=pandas_Tweight.sort_index().interpolate()\n",
    "pandas_Sweight=pandas_Sweight.sort_index().interpolate()\n",
    "pandas_Tweight.iloc[0]=pandas_Tweight.iloc[1]\n",
    "pandas_Sweight.iloc[0]=pandas_Sweight.iloc[1]\n",
    "pandas_Tweight=pandas_Tweight[pandas_Tweight.index.isin(-ds1D.Z.values)].drop_duplicates()\n",
    "pandas_Sweight=pandas_Sweight[pandas_Sweight.index.isin(-ds1D.Z.values)].drop_duplicates()\n"
   ]
  },
  {
   "cell_type": "code",
   "execution_count": 10,
   "metadata": {},
   "outputs": [],
   "source": [
    "from scipy.io import loadmat\n",
    "x = loadmat('/swot/SUM01/spencer/bsose_bits/sose_bgc_stats_smooth.mat')\n",
    "grid_matt=xr.open_dataset('/swot/SUM01/spencer/bsose_bits/grid_full.nc')\n",
    "err02=x['errO2']\n",
    "mean_errO2=np.mean(np.mean(err02[0:18,113:135,:],axis=0),axis=0)\n",
    "O2weight_interp=(np.interp(-ds1D.Z.values,-grid_matt.RC.values,mean_errO2)).astype('>f')\n",
    "#plt.plot(-grid_matt.RC.values,mean_errO2)\n",
    "#plt.plot(-ds1D.Z.values,O2weight_interp,'x')\n",
    "pandas_Oweight=pd.Series(O2weight_interp,index=pandas_Tweight.index)"
   ]
  },
  {
   "cell_type": "code",
   "execution_count": 11,
   "metadata": {},
   "outputs": [],
   "source": [
    "interped_weight=interpedi.reset_index().merge(pandas_Tweight.reset_index(),how='left',on='prof_depth')\n",
    "interped_weight=interped_weight.merge(pandas_Sweight.reset_index(),how='left',on='prof_depth')\n",
    "interped_weight=interped_weight.set_index(['iPROF','iDEPTH'])\n",
    "interped_weight=interped_weight[interped_weight['prof_Tweight'].astype('f8').notnull()]\n",
    "interped_weight=interped_weight[interped_weight['prof_Sweight'].astype('f8').notnull()]"
   ]
  },
  {
   "cell_type": "code",
   "execution_count": 12,
   "metadata": {},
   "outputs": [],
   "source": [
    "# convert to xarray and rename variables\n",
    "interpedx=interped_weight.to_xarray()\n",
    "interpedx=interpedx.rename({'LATITUDE':'prof_lat','LONGITUDE':'prof_lon','pt':'prof_T',\n",
    "                            'SA':'prof_S','date':'prof_YYYYMMDD','time':'prof_HHMMSS','JULD':'prof_date'})\n",
    "interpedx['prof_Tflag']=interpedx['prof_T'].where(np.isnan(interpedx['prof_T']), other=0, drop=False)\n",
    "interpedx['prof_Tflag']=interpedx['prof_Tflag'].where(interpedx['prof_Tflag']==0, other=1, drop=False)\n",
    "interpedx['prof_Sflag']=interpedx['prof_S'].where(np.isnan(interpedx['prof_S']), other=0, drop=False)\n",
    "interpedx['prof_Sflag']=interpedx['prof_Sflag'].where(interpedx['prof_Sflag']==0, other=1, drop=False)\n",
    "interpedx['prof_descr']=interpedx['iPROF'].astype(str)\n",
    "\n",
    "interpedx['prof_T']=interpedx['prof_T'].where(np.isfinite(interpedx['prof_T']), other=0, drop=False)\n",
    "interpedx['prof_S']=interpedx['prof_S'].where(np.isfinite(interpedx['prof_S']), other=0, drop=False)\n",
    "\n",
    "interpedx['prof_YYYYMMDD']=interpedx.prof_YYYYMMDD[:,8]\n",
    "interpedx['prof_HHMMSS']=interpedx.prof_HHMMSS[:,8]\n",
    "interpedx['prof_lon']=interpedx.prof_lon[:,8]\n",
    "interpedx['prof_lat']=interpedx.prof_lat[:,8]\n",
    "interpedx['prof_depth']=interpedx.prof_depth[:,8]\n",
    "interpedx=interpedx.drop(['iDEPTH','iPROF','index'])\n",
    "interpedx['prof_Tweight']=interpedx['prof_Tweight'].where(interpedx['prof_Tweight'].notnull(),0.001)\n",
    "interpedx['prof_Sweight']=interpedx['prof_Sweight'].where(interpedx['prof_Sweight'].notnull(),0.001)\n",
    "interpedx.to_netcdf('test_argo.nc')"
   ]
  },
  {
   "cell_type": "code",
   "execution_count": 40,
   "metadata": {},
   "outputs": [
    {
     "data": {
      "text/plain": [
       "[<matplotlib.lines.Line2D at 0x7f8b4033b470>]"
      ]
     },
     "execution_count": 40,
     "metadata": {},
     "output_type": "execute_result"
    },
    {
     "data": {
      "image/png": "[encoded data removed]",
      "text/plain": [
       "<Figure size 432x288 with 1 Axes>"
      ]
     },
     "metadata": {
      "needs_background": "light"
     },
     "output_type": "display_data"
    }
   ],
   "source": [
    "interpedx['prof_lon'].plot()"
   ]
  },
  {
   "cell_type": "code",
   "execution_count": 39,
   "metadata": {},
   "outputs": [
    {
     "data": {
      "text/plain": [
       "[<matplotlib.lines.Line2D at 0x7f8b48e010f0>]"
      ]
     },
     "execution_count": 39,
     "metadata": {},
     "output_type": "execute_result"
    },
    {
     "data": {
      "image/png": "[encoded data removed]",
      "text/plain": [
       "<Figure size 432x288 with 1 Axes>"
      ]
     },
     "metadata": {
      "needs_background": "light"
     },
     "output_type": "display_data"
    }
   ],
   "source": [
    "argo_test='/swot/SUM01/spencer/Argo_test/argo_2015_feb2016_llc90_step_09_20160308.nc'\n",
    "prof_ecco=xr.open_dataset(argo_test)\n",
    "prof_ecco.prof_lon[0:100].plot()"
   ]
  },
  {
   "cell_type": "code",
   "execution_count": 18,
   "metadata": {},
   "outputs": [
    {
     "data": {
      "text/plain": [
       "prof_depth\n",
       "2.100000        0.483216\n",
       "6.700000        0.500189\n",
       "12.150000       0.517163\n",
       "18.549999       0.578588\n",
       "26.250000       0.656796\n",
       "35.250000       0.609254\n",
       "45.000000       0.527955\n",
       "55.000000       0.430813\n",
       "65.000000       0.299081\n",
       "75.000000       0.272233\n",
       "85.000000       0.267368\n",
       "95.000000       0.291203\n",
       "105.000000      0.291742\n",
       "115.000000      0.351294\n",
       "125.000000      0.483318\n",
       "135.000000      0.663487\n",
       "146.500000      1.120743\n",
       "161.500000      1.438772\n",
       "180.000000      1.967747\n",
       "200.000000      2.460358\n",
       "220.000000      3.066332\n",
       "240.000000      3.748401\n",
       "260.000000      4.609740\n",
       "280.000000      5.014430\n",
       "301.000000      5.713635\n",
       "327.000000      6.312647\n",
       "361.000000      7.634455\n",
       "402.500000      9.030281\n",
       "450.000000      9.686204\n",
       "500.000000     10.471743\n",
       "551.500000     12.208255\n",
       "614.000000     13.779308\n",
       "700.000000     14.739701\n",
       "800.000000     16.786930\n",
       "900.000000     19.135674\n",
       "1000.000000    20.167812\n",
       "1100.000000    20.059293\n",
       "1200.000000    20.067709\n",
       "1300.000000    20.214410\n",
       "1400.000000    21.093549\n",
       "1500.000000    22.132468\n",
       "1600.000000    22.946597\n",
       "Name: prof_Tweight, dtype: float64"
      ]
     },
     "execution_count": 18,
     "metadata": {},
     "output_type": "execute_result"
    }
   ],
   "source": [
    "pandas_Tweight"
   ]
  },
  {
   "cell_type": "code",
   "execution_count": null,
   "metadata": {},
   "outputs": [],
   "source": []
  }
 ],
 "metadata": {
  "kernelspec": {
   "display_name": "Python [conda env:pangeo1]",
   "language": "python",
   "name": "conda-env-pangeo1-py"
  },
  "language_info": {
   "codemirror_mode": {
    "name": "ipython",
    "version": 3
   },
   "file_extension": ".py",
   "mimetype": "text/x-python",
   "name": "python",
   "nbconvert_exporter": "python",
   "pygments_lexer": "ipython3",
   "version": "3.6.8"
  }
 },
 "nbformat": 4,
 "nbformat_minor": 2
}
